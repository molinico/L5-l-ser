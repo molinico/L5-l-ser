{
 "cells": [
  {
   "attachments": {},
   "cell_type": "markdown",
   "metadata": {},
   "source": [
    "# Láser"
   ]
  },
  {
   "cell_type": "code",
   "execution_count": 1,
   "metadata": {},
   "outputs": [],
   "source": [
    "import matplotlib.pyplot as plt\n",
    "import matplotlib.ticker as mtick\n",
    "import numpy as np\n",
    "import math\n",
    "import time\n",
    "import scipy.signal\n",
    "from scipy.optimize import curve_fit\n",
    "import scipy.stats as stats\n",
    "import pandas as pd\n",
    "import os\n",
    "from  scipy.stats import chi2_contingency\n",
    "from statsmodels.stats.weightstats import DescrStatsW\n",
    "#os.chdir (r'C:\\Users\\Sergio\\Desktop\\labo5\\laser\\codigos laser')\n",
    "os.chdir (r'C:\\Users\\Nicolás Molina\\Desktop\\L5\\laser\\codigos laser')\n",
    "\n",
    "#get_ipython().run_line_magic('matplotlib', 'inline')\n",
    "get_ipython().run_line_magic('matplotlib', 'qt5')"
   ]
  },
  {
   "attachments": {},
   "cell_type": "markdown",
   "metadata": {},
   "source": [
    "## Potencia en funcion de corriente"
   ]
  },
  {
   "cell_type": "code",
   "execution_count": 2,
   "metadata": {},
   "outputs": [
    {
     "name": "stdout",
     "output_type": "stream",
     "text": [
      "slope laser= 96.42617582417584 +- 6.1787940492649875\n",
      "oo laser= -110.46511868131867 +- 10.494859488379326\n",
      "slope diodo= 0.9068244302979981 +- 0.012368949978016072\n",
      "oo diodo= -0.5935752006642684 +- 0.01845076409500989\n",
      "slope laser2= 182.85139243356863 +- 4.048791860722851\n",
      "oo laser2= -150.30033591052404 +- 6.794307580740934\n"
     ]
    },
    {
     "data": {
      "text/plain": [
       "<matplotlib.legend.Legend at 0x150601c4b50>"
      ]
     },
     "execution_count": 2,
     "metadata": {},
     "output_type": "execute_result"
    }
   ],
   "source": [
    "plt.close(\"all\")\n",
    "\n",
    "IvsPlaser = pd.read_csv('I vs P laser.csv',skiprows=[0])\n",
    "\n",
    "file1='I vs P laser.csv'\n",
    "file2='I vs P diodo.csv'\n",
    "file3=\"I vs P laser nuevo.txt\"\n",
    "\n",
    "IvsPlaser = np.loadtxt(file1, delimiter=' ', skiprows=1, unpack=True)\n",
    "IvsPdiodo = np.loadtxt(file2, delimiter=' ', skiprows=1, unpack=True)\n",
    "IvsPlaser2=np.loadtxt(file3, delimiter=' ', skiprows=1, unpack=True)\n",
    "\n",
    "Ilaser=IvsPlaser[0]\n",
    "Plaser=IvsPlaser[1]\n",
    "errPlaser=0    #AGREGAR ERROR\n",
    "\n",
    "Idiodo=IvsPdiodo[0]\n",
    "Pdiodo=IvsPdiodo[1]\n",
    "errPdiodo=0.004+Pdiodo*0\n",
    "\n",
    "Ilaser2=IvsPlaser2[0]\n",
    "Plaser2=IvsPlaser2[1]\n",
    "errPlaser2=0.004+Plaser2*0\n",
    "\n",
    "\n",
    "\n",
    "plt.figure()\n",
    "plt.errorbar(Ilaser,Plaser,yerr=errPlaser,fmt=\"o\",label=\"Datos crudos\")\n",
    "plt.xlabel(\"I(A)\")\n",
    "plt.ylabel(\"Potencia(mW)\")\n",
    "plt.legend()\n",
    "plt.title(\"I vs P del láser\")\n",
    "\n",
    "\n",
    "def recta(x, a, b):\n",
    "    y = a * x + b\n",
    "    return y\n",
    "\n",
    "polylaser,Vlaser=np.polyfit(Ilaser,Plaser,deg=1, cov=True)\n",
    "slopelaser=polylaser[0]\n",
    "oo=polylaser[1]\n",
    "print(\"slope laser=\",polylaser[0],\"+-\",np.sqrt(Vlaser[0][0]))\n",
    "print(\"oo laser=\",polylaser[1],\"+-\",np.sqrt(Vlaser[1][1]))\n",
    "\n",
    "xlaser=np.linspace(1,2.4,len(Ilaser))\n",
    "\n",
    "ajustelaser=recta(xlaser,polylaser[0],polylaser[1])\n",
    "\n",
    "\n",
    "plt.plot(xlaser,ajustelaser,label=\"Ajuste lineal\")\n",
    "plt.legend()\n",
    "\n",
    "#########\n",
    "plt.figure()\n",
    "plt.errorbar(Idiodo,Pdiodo,yerr=errPdiodo,fmt=\"o\",label=\"Datos crudos\")\n",
    "plt.xlabel(\"I(A)\")\n",
    "plt.ylabel(\"Potencia(W)\")\n",
    "plt.legend()\n",
    "plt.title(\"I vs P del diodo\")\n",
    "\n",
    "polydiodo,Vdiodo=np.polyfit(Idiodo,Pdiodo,deg=1,w=errPdiodo,cov=True)\n",
    "slopediodo=polydiodo[0]\n",
    "oodiodo=polylaser[1]\n",
    "print(\"slope diodo=\",polydiodo[0],\"+-\",np.sqrt(Vdiodo[0][0]))\n",
    "print(\"oo diodo=\",polydiodo[1],\"+-\",np.sqrt(Vdiodo[1][1]))\n",
    "xdiodo=np.linspace(0.5,2.4,len(Idiodo))\n",
    "\n",
    "ajustediodo=recta(xdiodo,polydiodo[0],polydiodo[1])\n",
    "\n",
    "\n",
    "plt.plot(xdiodo,ajustediodo,label=\"Ajuste lineal\")\n",
    "plt.legend()\n",
    "\n",
    "\n",
    "\n",
    "\n",
    "plt.figure()\n",
    "plt.errorbar(Ilaser2,Plaser2,yerr=errPlaser2,fmt=\"o\",label=\"Datos crudos\")\n",
    "plt.xlabel(\"I(A)\")\n",
    "plt.ylabel(\"Potencia(mW)\")\n",
    "plt.legend()\n",
    "plt.title(\"I vs P del láser2\")\n",
    "\n",
    "\n",
    "polylaser2,Vlaser2=np.polyfit(Ilaser2,Plaser2,deg=1, cov=True)\n",
    "slopelaser2=polylaser2[0]\n",
    "oo=polylaser2[1]\n",
    "print(\"slope laser2=\",polylaser2[0],\"+-\",np.sqrt(Vlaser2[0][0]))\n",
    "print(\"oo laser2=\",polylaser2[1],\"+-\",np.sqrt(Vlaser2[1][1]))\n",
    "\n",
    "xlaser2=np.linspace(0.7,2.4,len(Ilaser2))\n",
    "\n",
    "ajustelaser2=recta(xlaser2,polylaser2[0],polylaser2[1])\n",
    "\n",
    "\n",
    "plt.plot(xlaser2,ajustelaser2,label=\"Ajuste lineal\")\n",
    "plt.legend()\n",
    "\n",
    "\n"
   ]
  },
  {
   "attachments": {},
   "cell_type": "markdown",
   "metadata": {},
   "source": [
    "## Potencia en función de ángulo con KTP (luz verde)"
   ]
  },
  {
   "cell_type": "code",
   "execution_count": 3,
   "metadata": {},
   "outputs": [
    {
     "data": {
      "text/plain": [
       "<ErrorbarContainer object of 3 artists>"
      ]
     },
     "execution_count": 3,
     "metadata": {},
     "output_type": "execute_result"
    }
   ],
   "source": [
    "\n",
    "plt.close(\"all\")\n",
    "\n",
    "\n",
    "file1='potencia variando phi.txt'\n",
    "file2='potencia variando theta.txt'\n",
    "\n",
    "txtphi = np.loadtxt(file1, delimiter=' ', skiprows=1, unpack=True)\n",
    "txttheta = np.loadtxt(file2, delimiter=' ', skiprows=1, unpack=True)\n",
    "\n",
    "\n",
    "\n",
    "phi=txtphi[1]\n",
    "Pphi=txtphi[2]\n",
    "errphi=phi*0+1\n",
    "errPphi=Pphi*0.01\n",
    "\n",
    "theta=txttheta[0]\n",
    "Ptheta=txttheta[2]\n",
    "errtheta=theta*0+1\n",
    "errPtheta=Ptheta*0.01\n",
    "\n",
    "plt.figure()\n",
    "plt.grid()\n",
    "plt.title(\"Potencia en función de phi con theta=202°\")\n",
    "plt.xlabel(\"Grados (°)\")\n",
    "plt.ylabel(\"Potencia (mW)\")\n",
    "plt.plot(phi,Pphi,color=\"red\")\n",
    "plt.errorbar(phi,Pphi,yerr=errPphi,xerr=errphi,fmt=\".\")\n",
    "\n",
    "plt.figure()\n",
    "plt.grid()\n",
    "plt.title(\"Potencia en función de theta con phi=278°\")\n",
    "plt.xlabel(\"Grados (°)\")\n",
    "plt.ylabel(\"Potencia (mW)\")\n",
    "plt.plot(theta,Ptheta,color=\"red\")\n",
    "plt.errorbar(theta,Ptheta,yerr=errPtheta,xerr=errtheta,fmt=\".\")"
   ]
  },
  {
   "cell_type": "code",
   "execution_count": 4,
   "metadata": {},
   "outputs": [],
   "source": [
    "\n",
    "import numpy as np\n",
    "import matplotlib.pyplot as plt\n",
    "\n",
    "\n",
    "\n",
    "\n",
    "file='potencia variando theta.txt'\n",
    "\n",
    "\n",
    "\n",
    "import numpy as np\n",
    "import matplotlib.pyplot as plt\n",
    "from mpl_toolkits.mplot3d import Axes3D\n",
    "\n",
    "# Load data from txt file\n",
    "data = np.loadtxt(file1, delimiter=' ', skiprows=1, unpack=True)\n",
    "\n",
    "# Extract columns from data\n",
    "x = data[0]\n",
    "y = data[1]\n",
    "z = data[2]\n",
    "\n",
    "# Create 3D plot\n",
    "fig = plt.figure()\n",
    "\n",
    "\n",
    "# Plot data as scatter plot\n",
    "\n",
    "ax = plt.axes(projection='3d')\n",
    "ax.scatter(x, y, z, c=z, cmap='viridis', linewidth=0.5)\n",
    "\n",
    "# Set axis labels\n",
    "ax.set_xlabel('X Label')\n",
    "ax.set_ylabel('Y Label')\n",
    "ax.set_zlabel('Z Label')\n",
    "ax.set_xlim([0, 360])\n",
    "ax.set_ylim([0, 360])\n",
    "\n",
    "\n",
    "# Show plot\n",
    "plt.show()"
   ]
  },
  {
   "cell_type": "code",
   "execution_count": null,
   "metadata": {},
   "outputs": [],
   "source": []
  }
 ],
 "metadata": {
  "kernelspec": {
   "display_name": "base",
   "language": "python",
   "name": "python3"
  },
  "language_info": {
   "codemirror_mode": {
    "name": "ipython",
    "version": 3
   },
   "file_extension": ".py",
   "mimetype": "text/x-python",
   "name": "python",
   "nbconvert_exporter": "python",
   "pygments_lexer": "ipython3",
   "version": "3.9.7"
  },
  "orig_nbformat": 4,
  "vscode": {
   "interpreter": {
    "hash": "ad2bdc8ecc057115af97d19610ffacc2b4e99fae6737bb82f5d7fb13d2f2c186"
   }
  }
 },
 "nbformat": 4,
 "nbformat_minor": 2
}
