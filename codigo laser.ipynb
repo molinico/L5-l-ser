{
 "cells": [
  {
   "attachments": {},
   "cell_type": "markdown",
   "metadata": {},
   "source": [
    "# Láser"
   ]
  },
  {
   "cell_type": "code",
   "execution_count": 3,
   "metadata": {},
   "outputs": [],
   "source": [
    "import matplotlib.pyplot as plt\n",
    "import numpy as np\n",
    "import math\n",
    "import time\n",
    "import scipy.signal\n",
    "from scipy.optimize import curve_fit\n",
    "import scipy.stats as stats\n",
    "import pandas as pd\n",
    "import os\n",
    "from  scipy.stats import chi2_contingency\n",
    "from statsmodels.stats.weightstats import DescrStatsW\n",
    "os.chdir (r'C:\\Users\\Sergio\\Desktop\\labo5\\laser\\codigos laser')\n",
    "#get_ipython().run_line_magic('matplotlib', 'inline')\n",
    "get_ipython().run_line_magic('matplotlib', 'qt5')"
   ]
  },
  {
   "attachments": {},
   "cell_type": "markdown",
   "metadata": {},
   "source": [
    "## Potencia en funcion de corriente"
   ]
  },
  {
   "cell_type": "code",
   "execution_count": 7,
   "metadata": {},
   "outputs": [
    {
     "name": "stdout",
     "output_type": "stream",
     "text": [
      "slope laser= 96.42617582417586 +- 6.178794049264976\n",
      "oo laser= -110.46511868131871 +- 10.494859488379305\n",
      "slope diodo= 0.906824430297998 +- 0.012368949978016049\n",
      "oo diodo= -0.5935752006642685 +- 0.018450764095009852\n",
      "slope laser2= 182.85139243356858 +- 4.0487918607228535\n",
      "oo laser2= -150.300335910524 +- 6.794307580740937\n"
     ]
    },
    {
     "data": {
      "text/plain": [
       "<matplotlib.legend.Legend at 0x1d4fdaef0d0>"
      ]
     },
     "execution_count": 7,
     "metadata": {},
     "output_type": "execute_result"
    }
   ],
   "source": [
    "plt.close(\"all\")\n",
    "\n",
    "IvsPlaser = pd.read_csv('I vs P laser.csv',skiprows=[0])\n",
    "\n",
    "file1='I vs P laser.csv'\n",
    "file2='I vs P diodo.csv'\n",
    "file3=\"I vs P laser nuevo.txt\"\n",
    "\n",
    "IvsPlaser = np.loadtxt(file1, delimiter=' ', skiprows=1, unpack=True)\n",
    "IvsPdiodo = np.loadtxt(file2, delimiter=' ', skiprows=1, unpack=True)\n",
    "IvsPlaser2=np.loadtxt(file3, delimiter=' ', skiprows=1, unpack=True)\n",
    "\n",
    "Ilaser=IvsPlaser[0]\n",
    "Plaser=IvsPlaser[1]\n",
    "errPlaser=0    #AGREGAR ERROR\n",
    "\n",
    "Idiodo=IvsPdiodo[0]\n",
    "Pdiodo=IvsPdiodo[1]\n",
    "errPdiodo=0.004+Pdiodo*0\n",
    "\n",
    "Ilaser2=IvsPlaser2[0]\n",
    "Plaser2=IvsPlaser2[1]\n",
    "errPlaser2=0.004+Plaser2*0\n",
    "\n",
    "\n",
    "\n",
    "plt.figure()\n",
    "plt.errorbar(Ilaser,Plaser,yerr=errPlaser,fmt=\"o\",label=\"Datos crudos\")\n",
    "plt.xlabel(\"I(A)\")\n",
    "plt.ylabel(\"Potencia(mW)\")\n",
    "plt.legend()\n",
    "plt.title(\"I vs P del láser\")\n",
    "\n",
    "\n",
    "def recta(x, a, b):\n",
    "    y = a * x + b\n",
    "    return y\n",
    "\n",
    "polylaser,Vlaser=np.polyfit(Ilaser,Plaser,deg=1, cov=True)\n",
    "slopelaser=polylaser[0]\n",
    "oo=polylaser[1]\n",
    "print(\"slope laser=\",polylaser[0],\"+-\",np.sqrt(Vlaser[0][0]))\n",
    "print(\"oo laser=\",polylaser[1],\"+-\",np.sqrt(Vlaser[1][1]))\n",
    "\n",
    "xlaser=np.linspace(1,2.4,len(Ilaser))\n",
    "\n",
    "ajustelaser=recta(xlaser,polylaser[0],polylaser[1])\n",
    "\n",
    "\n",
    "plt.plot(xlaser,ajustelaser,label=\"Ajuste lineal\")\n",
    "plt.legend()\n",
    "\n",
    "#########\n",
    "plt.figure()\n",
    "plt.errorbar(Idiodo,Pdiodo,yerr=errPdiodo,fmt=\"o\",label=\"Datos crudos\")\n",
    "plt.xlabel(\"I(A)\")\n",
    "plt.ylabel(\"Potencia(W)\")\n",
    "plt.legend()\n",
    "plt.title(\"I vs P del diodo\")\n",
    "\n",
    "polydiodo,Vdiodo=np.polyfit(Idiodo,Pdiodo,deg=1,w=errPdiodo,cov=True)\n",
    "slopediodo=polydiodo[0]\n",
    "oodiodo=polylaser[1]\n",
    "print(\"slope diodo=\",polydiodo[0],\"+-\",np.sqrt(Vdiodo[0][0]))\n",
    "print(\"oo diodo=\",polydiodo[1],\"+-\",np.sqrt(Vdiodo[1][1]))\n",
    "xdiodo=np.linspace(0.5,2.4,len(Idiodo))\n",
    "\n",
    "ajustediodo=recta(xdiodo,polydiodo[0],polydiodo[1])\n",
    "\n",
    "\n",
    "plt.plot(xdiodo,ajustediodo,label=\"Ajuste lineal\")\n",
    "plt.legend()\n",
    "\n",
    "\n",
    "\n",
    "\n",
    "plt.figure()\n",
    "plt.errorbar(Ilaser2,Plaser2,yerr=errPlaser2,fmt=\"o\",label=\"Datos crudos\")\n",
    "plt.xlabel(\"I(A)\")\n",
    "plt.ylabel(\"Potencia(mW)\")\n",
    "plt.legend()\n",
    "plt.title(\"I vs P del láser2\")\n",
    "\n",
    "\n",
    "polylaser2,Vlaser2=np.polyfit(Ilaser2,Plaser2,deg=1, cov=True)\n",
    "slopelaser2=polylaser2[0]\n",
    "oo=polylaser2[1]\n",
    "print(\"slope laser2=\",polylaser2[0],\"+-\",np.sqrt(Vlaser2[0][0]))\n",
    "print(\"oo laser2=\",polylaser2[1],\"+-\",np.sqrt(Vlaser2[1][1]))\n",
    "\n",
    "xlaser2=np.linspace(0.7,2.4,len(Ilaser2))\n",
    "\n",
    "ajustelaser2=recta(xlaser2,polylaser2[0],polylaser2[1])\n",
    "\n",
    "\n",
    "plt.plot(xlaser2,ajustelaser2,label=\"Ajuste lineal\")\n",
    "plt.legend()\n",
    "\n",
    "\n"
   ]
  },
  {
   "cell_type": "code",
   "execution_count": null,
   "metadata": {},
   "outputs": [],
   "source": []
  }
 ],
 "metadata": {
  "kernelspec": {
   "display_name": "labo",
   "language": "python",
   "name": "python3"
  },
  "language_info": {
   "codemirror_mode": {
    "name": "ipython",
    "version": 3
   },
   "file_extension": ".py",
   "mimetype": "text/x-python",
   "name": "python",
   "nbconvert_exporter": "python",
   "pygments_lexer": "ipython3",
   "version": "3.9.11"
  },
  "orig_nbformat": 4,
  "vscode": {
   "interpreter": {
    "hash": "5e9d24198287529ab0983412794614a9ec7f333a6d0ec6a5664320e8eb8f57c1"
   }
  }
 },
 "nbformat": 4,
 "nbformat_minor": 2
}
