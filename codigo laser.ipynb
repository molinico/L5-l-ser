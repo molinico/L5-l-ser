{
 "cells": [
  {
   "attachments": {},
   "cell_type": "markdown",
   "metadata": {},
   "source": [
    "# Láser"
   ]
  },
  {
   "cell_type": "code",
   "execution_count": 2,
   "metadata": {},
   "outputs": [],
   "source": [
    "import matplotlib.pyplot as plt\n",
    "import numpy as np\n",
    "import math\n",
    "import time\n",
    "import scipy.signal\n",
    "from scipy.optimize import curve_fit\n",
    "import scipy.stats as stats\n",
    "import pandas as pd\n",
    "import os\n",
    "from  scipy.stats import chi2_contingency\n",
    "from statsmodels.stats.weightstats import DescrStatsW\n",
    "os.chdir (r'C:\\Users\\Nicolás Molina\\Desktop\\L5\\laser')\n",
    "#get_ipython().run_line_magic('matplotlib', 'inline')\n",
    "get_ipython().run_line_magic('matplotlib', 'qt5')"
   ]
  },
  {
   "attachments": {},
   "cell_type": "markdown",
   "metadata": {},
   "source": [
    "## Potencia en funcion de corriente"
   ]
  },
  {
   "cell_type": "code",
   "execution_count": 60,
   "metadata": {},
   "outputs": [
    {
     "name": "stdout",
     "output_type": "stream",
     "text": [
      "slope laser= 96.42617582417584 +- 6.1787940492649875\n",
      "oo laser= -110.46511868131867 +- 10.494859488379326\n",
      "slope diodo= 0.9068244302979981 +- 0.012368949978016072\n",
      "oo diodo= -0.5935752006642684 +- 0.01845076409500989\n"
     ]
    },
    {
     "data": {
      "text/plain": [
       "<matplotlib.legend.Legend at 0x1d312313490>"
      ]
     },
     "execution_count": 60,
     "metadata": {},
     "output_type": "execute_result"
    }
   ],
   "source": [
    "plt.close(\"all\")\n",
    "\n",
    "IvsPlaser = pd.read_csv('I vs P laser.csv',skiprows=[0])\n",
    "\n",
    "file1='I vs P laser.csv'\n",
    "file2='I vs P diodo.csv'\n",
    "IvsPlaser = np.loadtxt(file1, delimiter=' ', skiprows=1, unpack=True)\n",
    "IvsPdiodo = np.loadtxt(file2, delimiter=' ', skiprows=1, unpack=True)\n",
    "\n",
    "Ilaser=IvsPlaser[0]\n",
    "Plaser=IvsPlaser[1]\n",
    "errPlaser=0    #AGREGAR ERROR\n",
    "\n",
    "Idiodo=IvsPdiodo[0]\n",
    "Pdiodo=IvsPdiodo[1]\n",
    "errPdiodo=0.004+Pdiodo*0\n",
    "\n",
    "\n",
    "\n",
    "\n",
    "plt.figure()\n",
    "plt.errorbar(Ilaser,Plaser,yerr=errPlaser,fmt=\"o\",label=\"Datos crudos\")\n",
    "plt.xlabel(\"I(A)\")\n",
    "plt.ylabel(\"Potencia(mW)\")\n",
    "plt.legend()\n",
    "plt.title(\"I vs P del láser\")\n",
    "\n",
    "\n",
    "def recta(x, a, b):\n",
    "    y = a * x + b\n",
    "    return y\n",
    "\n",
    "polylaser,Vlaser=np.polyfit(Ilaser,Plaser,deg=1, cov=True)\n",
    "slopelaser=polylaser[0]\n",
    "oo=polylaser[1]\n",
    "print(\"slope laser=\",polylaser[0],\"+-\",np.sqrt(Vlaser[0][0]))\n",
    "print(\"oo laser=\",polylaser[1],\"+-\",np.sqrt(Vlaser[1][1]))\n",
    "\n",
    "xlaser=np.linspace(1,2.4,len(Ilaser))\n",
    "\n",
    "ajustelaser=recta(xlaser,polylaser[0],polylaser[1])\n",
    "\n",
    "\n",
    "plt.plot(xlaser,ajustelaser,label=\"Ajuste lineal\")\n",
    "plt.legend()\n",
    "\n",
    "#########\n",
    "plt.figure()\n",
    "plt.errorbar(Idiodo,Pdiodo,yerr=errPdiodo,fmt=\"o\",label=\"Datos crudos\")\n",
    "plt.xlabel(\"I(A)\")\n",
    "plt.ylabel(\"Potencia(W)\")\n",
    "plt.legend()\n",
    "plt.title(\"I vs P del diodo\")\n",
    "\n",
    "polydiodo,Vdiodo=np.polyfit(Idiodo,Pdiodo,deg=1,w=errPdiodo,cov=True)\n",
    "slopediodo=polydiodo[0]\n",
    "oodiodo=polylaser[1]\n",
    "print(\"slope diodo=\",polydiodo[0],\"+-\",np.sqrt(Vdiodo[0][0]))\n",
    "print(\"oo diodo=\",polydiodo[1],\"+-\",np.sqrt(Vdiodo[1][1]))\n",
    "xdiodo=np.linspace(0.5,2.4,len(Idiodo))\n",
    "\n",
    "ajustediodo=recta(xdiodo,polydiodo[0],polydiodo[1])\n",
    "\n",
    "\n",
    "plt.plot(xdiodo,ajustediodo,label=\"Ajuste lineal\")\n",
    "plt.legend()\n",
    "\n",
    "\n"
   ]
  },
  {
   "cell_type": "code",
   "execution_count": null,
   "metadata": {},
   "outputs": [],
   "source": []
  }
 ],
 "metadata": {
  "kernelspec": {
   "display_name": "base",
   "language": "python",
   "name": "python3"
  },
  "language_info": {
   "name": "python",
   "version": "3.9.7"
  },
  "orig_nbformat": 4,
  "vscode": {
   "interpreter": {
    "hash": "ad2bdc8ecc057115af97d19610ffacc2b4e99fae6737bb82f5d7fb13d2f2c186"
   }
  }
 },
 "nbformat": 4,
 "nbformat_minor": 2
}
